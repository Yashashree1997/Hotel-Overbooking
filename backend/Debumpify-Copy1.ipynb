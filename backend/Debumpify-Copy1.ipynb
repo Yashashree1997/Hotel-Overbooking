{
 "cells": [
  {
   "cell_type": "code",
   "execution_count": 5,
   "metadata": {},
   "outputs": [
    {
     "name": "stdout",
     "output_type": "stream",
     "text": [
      "(40060, 28)\n",
      "0.9432850723914129\n"
     ]
    }
   ],
   "source": [
    "import pandas as pd\n",
    "import numpy as np\n",
    "from sklearn.preprocessing import LabelEncoder, OneHotEncoder\n",
    "from sklearn.metrics import accuracy_score\n",
    "from sklearn.cross_validation import train_test_split\n",
    "from sklearn.ensemble import RandomForestClassifier\n",
    "from sklearn.model_selection import cross_val_score\n",
    "from sklearn.metrics import recall_score\n",
    "from sklearn.neighbors import KNeighborsClassifier\n",
    "from sklearn.naive_bayes import GaussianNB\n",
    "from sklearn.linear_model import LogisticRegression\n",
    "from sklearn.preprocessing import StandardScaler\n",
    "from sklearn import tree\n",
    "from sklearn.decomposition import PCA\n",
    "from sklearn.feature_selection import RFE\n",
    "import pickle\n",
    "\n",
    "dataset = pd.read_csv('../data/H1.csv')\n",
    "#dataset = dataset.append(pd.read_csv('../data/H2.csv'))\n",
    "\n",
    "X = dataset.drop(['IsCanceled', 'Company', 'ReservationStatus'], axis = 1)\n",
    "\n",
    "y = dataset.iloc[:, -2]\n",
    "\n",
    "y, labels = pd.factorize(y.values)\n",
    "\n",
    "categorical = ['ReservationStatusDate', 'Agent', 'ArrivalDateMonth', 'AssignedRoomType', 'Country', 'CustomerType', 'DepositType', 'DistributionChannel', 'IsRepeatedGuest', 'MarketSegment', 'Meal', 'ReservedRoomType']\n",
    "\n",
    "for cat in categorical :\n",
    "    X[cat], labels = pd.factorize(X[cat].values)\n",
    "print(X.shape)\n",
    "\n",
    "X_train, X_test, y_train, y_test = train_test_split(X, y, test_size = 0.25, random_state = 0)\n",
    "\n",
    "sc = StandardScaler()\n",
    "X_train = sc.fit_transform(X_train)\n",
    "X_test = sc.transform(X_test)\n",
    "\n",
    "#Random Forest\n",
    "classifier = RandomForestClassifier(n_estimators = 100, criterion = 'entropy', random_state = 0)\n",
    "classifier.fit(X_train, y_train)\n",
    "y_pred = classifier.predict(X_test)\n",
    "print(accuracy_score(y_test, y_pred))\n",
    "\n",
    "pickle.dump(sc, open('scaler.pkl', 'wb'))\n",
    "pickle.dump(classifier, open('model.pkl','wb'))"
   ]
  },
  {
   "cell_type": "code",
   "execution_count": null,
   "metadata": {},
   "outputs": [],
   "source": []
  }
 ],
 "metadata": {
  "kernelspec": {
   "display_name": "Python 3",
   "language": "python",
   "name": "python3"
  },
  "language_info": {
   "codemirror_mode": {
    "name": "ipython",
    "version": 3
   },
   "file_extension": ".py",
   "mimetype": "text/x-python",
   "name": "python",
   "nbconvert_exporter": "python",
   "pygments_lexer": "ipython3",
   "version": "3.6.5"
  }
 },
 "nbformat": 4,
 "nbformat_minor": 2
}
